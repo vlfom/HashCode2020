{
 "cells": [
  {
   "cell_type": "code",
   "execution_count": 42,
   "metadata": {},
   "outputs": [],
   "source": [
    "import matplotlib.pyplot as plt\n",
    "import pandas\n",
    "import numpy as np"
   ]
  },
  {
   "cell_type": "code",
   "execution_count": 43,
   "metadata": {},
   "outputs": [],
   "source": [
    "f = open(\"c_incunabula.txt\", \"r\")"
   ]
  },
  {
   "cell_type": "code",
   "execution_count": 44,
   "metadata": {},
   "outputs": [],
   "source": [
    "b, l, d = map(int, f.readline().split())"
   ]
  },
  {
   "cell_type": "code",
   "execution_count": 45,
   "metadata": {},
   "outputs": [],
   "source": [
    "book_scores = map(int, f.readline().split())"
   ]
  },
  {
   "cell_type": "code",
   "execution_count": 46,
   "metadata": {},
   "outputs": [],
   "source": [
    "lib_books_count = []\n",
    "lib_days_signup = []\n",
    "lib_speed = []"
   ]
  },
  {
   "cell_type": "code",
   "execution_count": 47,
   "metadata": {},
   "outputs": [],
   "source": [
    "book_count_in_libs = dict()"
   ]
  },
  {
   "cell_type": "code",
   "execution_count": 48,
   "metadata": {},
   "outputs": [],
   "source": [
    "# for bb in range(b):\n",
    "#     book_count_in_libs[bb] = 0"
   ]
  },
  {
   "cell_type": "code",
   "execution_count": 49,
   "metadata": {},
   "outputs": [],
   "source": [
    "for i in range(l):\n",
    "    n, t, m = map(int, f.readline().split())\n",
    "    lib_books_count.append(n)\n",
    "    lib_days_signup.append(t)\n",
    "    lib_speed.append(m)\n",
    "    \n",
    "    books = map(int, f.readline().split())\n",
    "    for book in books:\n",
    "        if book not in book_count_in_libs:\n",
    "            book_count_in_libs[book] = 0\n",
    "\n",
    "        book_count_in_libs[book] += 1"
   ]
  },
  {
   "cell_type": "code",
   "execution_count": 50,
   "metadata": {},
   "outputs": [],
   "source": [
    "books_counts = book_count_in_libs.values()"
   ]
  },
  {
   "cell_type": "code",
   "execution_count": 51,
   "metadata": {},
   "outputs": [
    {
     "name": "stdout",
     "output_type": "stream",
     "text": [
      "('Books', 100000)\n",
      "('Libraries', 10000)\n",
      "('Days', 100000)\n"
     ]
    }
   ],
   "source": [
    "print(\"Books\", b)\n",
    "print(\"Libraries\", l)\n",
    "print(\"Days\", d)"
   ]
  },
  {
   "cell_type": "code",
   "execution_count": 52,
   "metadata": {},
   "outputs": [
    {
     "name": "stdout",
     "output_type": "stream",
     "text": [
      "Books per library stats\n",
      "(15.0282, 10, 20, 3.161108153796703)\n"
     ]
    },
    {
     "data": {
      "image/png": "[encoded data removed]",
      "text/plain": [
       "<Figure size 432x288 with 1 Axes>"
      ]
     },
     "metadata": {
      "needs_background": "light"
     },
     "output_type": "display_data"
    }
   ],
   "source": [
    "print(\"Books per library stats\")\n",
    "_ = plt.hist(lib_books_count, 100)\n",
    "print(np.mean(lib_books_count), np.min(lib_books_count), np.max(lib_books_count), np.std(lib_books_count))"
   ]
  },
  {
   "cell_type": "code",
   "execution_count": 53,
   "metadata": {},
   "outputs": [
    {
     "name": "stdout",
     "output_type": "stream",
     "text": [
      "Signup duration stats\n",
      "(506.0797, 10, 1000, 285.94810953722003)\n"
     ]
    },
    {
     "data": {
      "image/png": "[encoded data removed]",
      "text/plain": [
       "<Figure size 432x288 with 1 Axes>"
      ]
     },
     "metadata": {
      "needs_background": "light"
     },
     "output_type": "display_data"
    }
   ],
   "source": [
    "print(\"Signup duration stats\")\n",
    "_ = plt.hist(lib_days_signup, 10)\n",
    "print(np.mean(lib_days_signup), np.min(lib_days_signup), np.max(lib_days_signup), np.std(lib_days_signup))"
   ]
  },
  {
   "cell_type": "code",
   "execution_count": 54,
   "metadata": {},
   "outputs": [
    {
     "name": "stdout",
     "output_type": "stream",
     "text": [
      "Speed stats\n",
      "(49511.3775, 210, 99998, 28885.853359352113)\n"
     ]
    },
    {
     "data": {
      "image/png": "[encoded data removed]",
      "text/plain": [
       "<Figure size 432x288 with 1 Axes>"
      ]
     },
     "metadata": {
      "needs_background": "light"
     },
     "output_type": "display_data"
    }
   ],
   "source": [
    "print(\"Speed stats\")\n",
    "_ = plt.hist(lib_speed, 10)\n",
    "print(np.mean(lib_speed), np.min(lib_speed), np.max(lib_speed), np.std(lib_speed))"
   ]
  },
  {
   "cell_type": "code",
   "execution_count": 55,
   "metadata": {},
   "outputs": [
    {
     "name": "stdout",
     "output_type": "stream",
     "text": [
      "Libraries per book stats\n",
      "(1.935127478753541, 1, 9, 1.055095507025871)\n"
     ]
    },
    {
     "data": {
      "image/png": "[encoded data removed]",
      "text/plain": [
       "<Figure size 432x288 with 1 Axes>"
      ]
     },
     "metadata": {
      "needs_background": "light"
     },
     "output_type": "display_data"
    }
   ],
   "source": [
    "print(\"Libraries per book stats\")\n",
    "_ = plt.hist(books_counts, 10)\n",
    "print(np.mean(books_counts), np.min(books_counts), np.max(books_counts), np.std(books_counts))"
   ]
  },
  {
   "cell_type": "code",
   "execution_count": null,
   "metadata": {},
   "outputs": [],
   "source": []
  },
  {
   "cell_type": "code",
   "execution_count": null,
   "metadata": {},
   "outputs": [],
   "source": []
  }
 ],
 "metadata": {
  "kernelspec": {
   "display_name": "Python 2",
   "language": "python",
   "name": "python2"
  },
  "language_info": {
   "codemirror_mode": {
    "name": "ipython",
    "version": 2
   },
   "file_extension": ".py",
   "mimetype": "text/x-python",
   "name": "python",
   "nbconvert_exporter": "python",
   "pygments_lexer": "ipython2",
   "version": "2.7.15"
  }
 },
 "nbformat": 4,
 "nbformat_minor": 2
}
